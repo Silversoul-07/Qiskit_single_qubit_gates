{
<<<<<<< HEAD
  "nbformat": 4,
  "nbformat_minor": 0,
  "metadata": {
    "colab": {
      "provenance": []
    },
    "kernelspec": {
      "name": "python3",
      "display_name": "Python 3"
    },
    "language_info": {
      "name": "python"
    }
  },
  "cells": [
    {
      "cell_type": "code",
      "source": [
        "!pip install qiskit qiskit-aer --upgrade"
      ],
      "metadata": {
        "id": "Mx6284lurNt1"
      },
      "execution_count": null,
      "outputs": []
    },
    {
      "cell_type": "code",
      "execution_count": null,
      "metadata": {
        "id": "VPOwLacGrCdU"
      },
      "outputs": [],
      "source": [
        "from qiskit import QuantumCircuit, transpile\n",
        "from qiskit_aer import AerSimulator\n",
        "\n",
        "# Initialize simulator\n",
=======
  "cells": [
    {
      "cell_type": "code",
      "execution_count": 1,
      "metadata": {
        "id": "Mx6284lurNt1"
      },
      "outputs": [
        {
          "name": "stdout",
          "output_type": "stream",
          "text": [
            "Requirement already satisfied: qiskit in /home/praveen/.pyenv/versions/3.10.18/lib/python3.10/site-packages (2.2.1)\n",
            "Requirement already satisfied: qiskit-aer in /home/praveen/.pyenv/versions/3.10.18/lib/python3.10/site-packages (0.17.2)\n",
            "Requirement already satisfied: dill>=0.3 in /home/praveen/.pyenv/versions/3.10.18/lib/python3.10/site-packages (from qiskit) (0.4.0)\n",
            "Requirement already satisfied: numpy<3,>=1.17 in /home/praveen/.pyenv/versions/3.10.18/lib/python3.10/site-packages (from qiskit) (2.2.6)\n",
            "Requirement already satisfied: scipy>=1.5 in /home/praveen/.pyenv/versions/3.10.18/lib/python3.10/site-packages (from qiskit) (1.15.3)\n",
            "Requirement already satisfied: typing-extensions in /home/praveen/.pyenv/versions/3.10.18/lib/python3.10/site-packages (from qiskit) (4.15.0)\n",
            "Requirement already satisfied: rustworkx>=0.15.0 in /home/praveen/.pyenv/versions/3.10.18/lib/python3.10/site-packages (from qiskit) (0.17.1)\n",
            "Requirement already satisfied: stevedore>=3.0.0 in /home/praveen/.pyenv/versions/3.10.18/lib/python3.10/site-packages (from qiskit) (5.5.0)\n",
            "Requirement already satisfied: psutil>=5 in /home/praveen/.pyenv/versions/3.10.18/lib/python3.10/site-packages (from qiskit-aer) (7.1.0)\n",
            "Requirement already satisfied: python-dateutil>=2.8.0 in /home/praveen/.pyenv/versions/3.10.18/lib/python3.10/site-packages (from qiskit-aer) (2.9.0.post0)\n",
            "Requirement already satisfied: six>=1.5 in /home/praveen/.pyenv/versions/3.10.18/lib/python3.10/site-packages (from python-dateutil>=2.8.0->qiskit-aer) (1.17.0)\n",
            "\n",
            "\u001b[1m[\u001b[0m\u001b[34;49mnotice\u001b[0m\u001b[1;39;49m]\u001b[0m\u001b[39;49m A new release of pip is available: \u001b[0m\u001b[31;49m23.0.1\u001b[0m\u001b[39;49m -> \u001b[0m\u001b[32;49m25.2\u001b[0m\n",
            "\u001b[1m[\u001b[0m\u001b[34;49mnotice\u001b[0m\u001b[1;39;49m]\u001b[0m\u001b[39;49m To update, run: \u001b[0m\u001b[32;49mpip install --upgrade pip\u001b[0m\n"
          ]
        }
      ],
      "source": [
        "!pip install qiskit qiskit-aer --upgrade"
      ]
    },
    {
      "cell_type": "code",
      "execution_count": 5,
      "metadata": {
        "id": "VPOwLacGrCdU"
      },
      "outputs": [
        {
          "name": "stdout",
          "output_type": "stream",
          "text": [
            "Quantum Circuit:\n",
            "        ┌───┐┌───┐┌───┐┌───┐┌─────────┐ ░ ┌─┐\n",
            "     q: ┤ X ├┤ H ├┤ S ├┤ T ├┤ Rz(0.5) ├─░─┤M├\n",
            "        └───┘└───┘└───┘└───┘└─────────┘ ░ └╥┘\n",
            "   c: 1/═══════════════════════════════════╬═\n",
            "                                           ║ \n",
            "meas: 1/═══════════════════════════════════╩═\n",
            "                                           0 \n",
            "\n",
            "Measurement Counts: {'0 0': 516, '1 0': 508}\n"
          ]
        }
      ],
      "source": [
        "from qiskit import QuantumCircuit, transpile\n",
        "from qiskit_aer import AerSimulator\n",
        "import matplotlib.pyplot as plt# Initialize simulator\n",
        "from qiskit.visualization import plot_histogram\n",
        "from math import pi\n",
        "\n",
>>>>>>> fcbc800 (code: complete task)
        "sim = AerSimulator()\n",
        "\n",
        "# Create a single-qubit circuit with one classical bit\n",
        "qc = QuantumCircuit(1, 1)\n",
        "\n",
        "# --- Apply sequence of single-qubit gates ---\n",
        "qc.x(0)        # Pauli-X (NOT gate)\n",
        "qc.h(0)        # Hadamard (superposition)\n",
        "qc.s(0)        # Phase gate (π/2)\n",
        "qc.t(0)        # T gate (π/4)\n",
        "qc.rz(0.5, 0)  # Z-axis rotation by 0.5 radians\n",
        "\n",
        "# Measure final state\n",
        "qc.measure_all()\n",
        "\n",
        "# Display circuit\n",
        "print(\"Quantum Circuit:\")\n",
        "print(qc.draw())\n",
        "\n",
        "# --- Run simulation ---\n",
        "compiled = transpile(qc, sim)\n",
        "result = sim.run(compiled, shots=1024).result()\n",
        "\n",
        "# --- Display results ---\n",
        "counts = result.get_counts()\n",
        "print(\"\\nMeasurement Counts:\", counts)\n"
      ]
    },
    {
      "cell_type": "code",
<<<<<<< HEAD
      "source": [],
      "metadata": {
        "id": "XXSzfpG9q7hc"
      },
      "execution_count": null,
      "outputs": []
    }
  ]
}
=======
      "execution_count": null,
      "metadata": {
        "id": "XXSzfpG9q7hc"
      },
      "outputs": [
        {
          "name": "stdout",
          "output_type": "stream",
          "text": [
            "Quantum Circuit:\n",
            "        ┌───┐┌───┐┌─────────┐ ░ ┌─┐\n",
            "     q: ┤ X ├┤ H ├┤ Rz(π/2) ├─░─┤M├\n",
            "        └───┘└───┘└─────────┘ ░ └╥┘\n",
            "meas: 1/═════════════════════════╩═\n",
            "                                 0 \n",
            "\n",
            "Task 1 – Changed gate order results: {'1': 512, '0': 488}\n"
          ]
        }
      ],
      "source": [
        "# Task 1 Change Gate Order (fixed)\n",
        "qc_order = QuantumCircuit(1)\n",
        "qc_order.x(0)      # swapped order: X first\n",
        "qc_order.h(0)      # then H\n",
        "qc_order.rz(pi/2, 0)\n",
        "qc_order.measure_all()\n",
        "\n",
        "# transpile then run\n",
        "compiled1 = transpile(qc_order, sim)\n",
        "job1 = sim.run(compiled1, shots=1000)\n",
        "result1 = job1.result()\n",
        "counts1 = result1.get_counts()\n",
        "\n",
        "# Display circuit\n",
        "print(\"Quantum Circuit:\")\n",
        "print(qc_order.draw())\n",
        "\n",
        "print(\"\\nTask 1 – Changed gate order results:\", counts1)\n",
        "plot_histogram(counts1)\n",
        "plt.show()\n"
      ]
    },
    {
      "cell_type": "code",
      "execution_count": 9,
      "metadata": {},
      "outputs": [
        {
          "name": "stdout",
          "output_type": "stream",
          "text": [
            "\n",
            "Task 2 – Rotation angle θ = 0.79 radians results: {'1': 484, '0': 516}\n",
            "\n",
            "Task 2 – Rotation angle θ = 1.57 radians results: {'0': 475, '1': 525}\n",
            "\n",
            "Task 2 – Rotation angle θ = 3.14 radians results: {'1': 499, '0': 501}\n"
          ]
        }
      ],
      "source": [
        "# Task 2: Vary Rotation Angle\n",
        "\n",
        "for theta in [pi/4, pi/2, pi]:\n",
        "    qc_angle = QuantumCircuit(1)\n",
        "    qc_angle.h(0)\n",
        "    qc_angle.x(0)\n",
        "    qc_angle.rz(theta, 0)\n",
        "    qc_angle.measure_all()\n",
        "\n",
        "    job2 = sim.run(qc_angle, shots=1000)\n",
        "    result2 = job2.result()\n",
        "    counts2 = result2.get_counts()\n",
        "    print(f\"\\nTask 2 – Rotation angle θ = {theta:.2f} radians results:\", counts2)\n",
        "    plot_histogram(counts2)\n",
        "    plt.show()\n",
        "     \n"
      ]
    },
    {
      "cell_type": "code",
      "execution_count": null,
      "metadata": {},
      "outputs": [
        {
          "name": "stdout",
          "output_type": "stream",
          "text": [
            "Quantum Circuit:\n",
            "        ┌───┐┌─────────┐ ░ ┌─┐\n",
            "     q: ┤ X ├┤ Rz(π/2) ├─░─┤M├\n",
            "        └───┘└─────────┘ ░ └╥┘\n",
            "meas: 1/════════════════════╩═\n",
            "                            0 \n",
            "\n",
            "Task 3 – Removed Hadamard gate results: {'1': 1000}\n"
          ]
        }
      ],
      "source": [
        "# Task 3: Remove a Gate\n",
        "qc_removed = QuantumCircuit(1)\n",
        "# qc_removed.h(0)  ← Hadamard removed\n",
        "qc_removed.x(0)\n",
        "qc_removed.rz(pi/2, 0)\n",
        "qc_removed.measure_all()\n",
        "\n",
        "# transpile then run\n",
        "compiled3 = transpile(qc_removed, sim)\n",
        "job3 = sim.run(compiled3, shots=1000)\n",
        "result3 = job3.result()\n",
        "counts3 = result3.get_counts()\n",
        "# Display circuit\n",
        "print(\"Quantum Circuit:\")\n",
        "print(qc_removed.draw())\n",
        "\n",
        "print(\"\\nTask 3 – Removed Hadamard gate results:\", counts3)\n",
        "plot_histogram(counts3)\n",
        "plt.show()"
      ]
    }
  ],
  "metadata": {
    "colab": {
      "provenance": []
    },
    "kernelspec": {
      "display_name": "3.10.18",
      "language": "python",
      "name": "python3"
    },
    "language_info": {
      "codemirror_mode": {
        "name": "ipython",
        "version": 3
      },
      "file_extension": ".py",
      "mimetype": "text/x-python",
      "name": "python",
      "nbconvert_exporter": "python",
      "pygments_lexer": "ipython3",
      "version": "3.10.18"
    }
  },
  "nbformat": 4,
  "nbformat_minor": 0
}
>>>>>>> fcbc800 (code: complete task)
